{
 "cells": [
  {
   "cell_type": "markdown",
   "metadata": {},
   "source": [
    "## Exploratory Data Analysis Template\n",
    "\n",
    "by Harman Singh"
   ]
  },
  {
   "cell_type": "markdown",
   "metadata": {},
   "source": [
    "### 0. Libraries and data"
   ]
  },
  {
   "cell_type": "code",
   "execution_count": null,
   "metadata": {},
   "outputs": [],
   "source": [
    "import pandas as pd\n",
    "import numpy as np\n",
    "\n",
    "import matplotlib.pyplot as plt\n",
    "import seaborn as sns\n",
    "\n",
    "\n",
    "# sns.get_dataset_names()\n",
    "\n",
    "# Seaborn Datasets\n",
    "anagrams = sns.load_dataset(\"anagrams\")\n",
    "anscombe = sns.load_dataset(\"anscombe\")\n",
    "attention = sns.load_dataset(\"attention\")\n",
    "brain_networks = sns.load_dataset(\"brain_networks\")\n",
    "car_crashes = sns.load_dataset(\"car_crashes\")\n",
    "diamonds = sns.load_dataset(\"diamonds\")\n",
    "dots = sns.load_dataset(\"dots\")\n",
    "dowjones = sns.load_dataset(\"dowjones\")\n",
    "exercise = sns.load_dataset(\"exercise\")\n",
    "flights = sns.load_dataset(\"flights\")\n",
    "fmri = sns.load_dataset(\"fmri\")\n",
    "geyser = sns.load_dataset(\"geyser\")\n",
    "glue = sns.load_dataset(\"glue\")\n",
    "healthexp = sns.load_dataset(\"healthexp\")\n",
    "iris = sns.load_dataset(\"iris\")\n",
    "mpg = sns.load_dataset(\"mpg\")\n",
    "penguins = sns.load_dataset(\"penguins\")\n",
    "planets = sns.load_dataset(\"planets\")\n",
    "seaice = sns.load_dataset(\"seaice\")\n",
    "taxis = sns.load_dataset(\"taxis\")\n",
    "tips = sns.load_dataset(\"tips\")\n",
    "titanic = sns.load_dataset(\"titanic\")\n",
    "\n",
    "# CSV datasets\n",
    "melb_data = pd.read_csv(\"./datasets/melb_data.csv\")"
   ]
  },
  {
   "cell_type": "code",
   "execution_count": null,
   "metadata": {},
   "outputs": [],
   "source": [
    "sns.get_dataset_names()"
   ]
  },
  {
   "cell_type": "markdown",
   "metadata": {},
   "source": [
    "`SET DATASET`"
   ]
  },
  {
   "cell_type": "code",
   "execution_count": null,
   "metadata": {},
   "outputs": [],
   "source": [
    "dataset = penguins"
   ]
  },
  {
   "cell_type": "markdown",
   "metadata": {},
   "source": [
    "### 01. General dataset information"
   ]
  },
  {
   "cell_type": "code",
   "execution_count": null,
   "metadata": {},
   "outputs": [],
   "source": [
    "dataset.columns"
   ]
  },
  {
   "cell_type": "code",
   "execution_count": null,
   "metadata": {},
   "outputs": [],
   "source": [
    "dataset.info()"
   ]
  },
  {
   "cell_type": "code",
   "execution_count": null,
   "metadata": {},
   "outputs": [],
   "source": [
    "dataset.describe()"
   ]
  },
  {
   "cell_type": "markdown",
   "metadata": {},
   "source": [
    "### 02. Basic Analysis\n",
    "\n",
    "the stuff I knew by heart"
   ]
  },
  {
   "cell_type": "markdown",
   "metadata": {},
   "source": [
    "#### **Missing Values**"
   ]
  },
  {
   "cell_type": "code",
   "execution_count": null,
   "metadata": {},
   "outputs": [],
   "source": [
    "ONLY_SHOW_FEATURES_WITH_MISSING_VALUES = True\n",
    "\n",
    "missing_values = dataset.isnull().sum()\n",
    "missing_df = pd.DataFrame({'feature': missing_values.index, 'missing': missing_values.values}).reset_index(drop=True).sort_values(by=\"missing\", ascending=False)\n",
    "\n",
    "if (ONLY_SHOW_FEATURES_WITH_MISSING_VALUES):\n",
    "    missing_df = missing_df[missing_df[\"missing\"] > 0]\n",
    "\n",
    "plt.figure(figsize=(10,6))\n",
    "\n",
    "sns.barplot(missing_df, x=\"missing\", y=\"feature\")\n",
    "plt.title(\"Missing values for each feature\")\n",
    "plt.xlabel(\"number of missing values\")\n",
    "plt.tight_layout()\n",
    "plt.show()"
   ]
  },
  {
   "cell_type": "markdown",
   "metadata": {},
   "source": [
    "#### **Correlation**"
   ]
  },
  {
   "cell_type": "code",
   "execution_count": null,
   "metadata": {},
   "outputs": [],
   "source": [
    "numerical_columns = dataset.select_dtypes(include=\"number\")\n",
    "correlation_matrix = numerical_columns.corr()\n",
    "\n",
    "plt.figure(figsize=(10, 10))\n",
    "sns.heatmap(correlation_matrix, cmap=\"coolwarm\", annot=True, square=True, fmt=\".2f\")\n",
    "plt.tight_layout()\n",
    "plt.show()"
   ]
  },
  {
   "cell_type": "markdown",
   "metadata": {},
   "source": [
    "#### **Outliers**"
   ]
  },
  {
   "cell_type": "code",
   "execution_count": null,
   "metadata": {},
   "outputs": [],
   "source": [
    "num_rows = len(numerical_columns.columns) // 4 + (len(numerical_columns.columns) % 4 > 0)\n",
    "\n",
    "fig, axes = plt.subplots(nrows=num_rows, ncols=4, figsize=(15, num_rows * 5))\n",
    "\n",
    "axes = axes.flatten()\n",
    "\n",
    "for i, column in enumerate(numerical_columns.columns):\n",
    "    numerical_columns.boxplot(column=[column], ax=axes[i])\n",
    "    axes[i].set_title(f\"{column}\")\n",
    "plt.tight_layout()\n",
    "plt.show()"
   ]
  },
  {
   "cell_type": "markdown",
   "metadata": {},
   "source": [
    "### 02. Advanced Analysis\n",
    "\n",
    "the stuff I had to ask ChatGPT"
   ]
  },
  {
   "cell_type": "markdown",
   "metadata": {},
   "source": [
    "#### **Distribution Plots**"
   ]
  },
  {
   "cell_type": "code",
   "execution_count": null,
   "metadata": {},
   "outputs": [],
   "source": [
    "num_cols = len(numerical_columns.columns) // 2\n",
    "num_rows = (num_cols + 1) // 2\n",
    "\n",
    "fig, axes = plt.subplots(nrows=num_cols, ncols=2, figsize=(12, 4 * num_cols))\n",
    "\n",
    "for i, col in enumerate(numerical_columns.columns):\n",
    "    row_idx = i // 2\n",
    "    col_idx = i % 2\n",
    "\n",
    "    sns.histplot(numerical_columns[col], kde=True, ax=axes[row_idx, col_idx])\n",
    "    axes[row_idx, col_idx].set_title(f\"Distribution of {col}\")\n",
    "\n",
    "plt.tight_layout()\n",
    "plt.show()"
   ]
  },
  {
   "cell_type": "markdown",
   "metadata": {},
   "source": [
    "#### **Categorical Data Exploration**"
   ]
  },
  {
   "cell_type": "code",
   "execution_count": null,
   "metadata": {},
   "outputs": [],
   "source": [
    "categorical_columns = dataset.select_dtypes(include='object')"
   ]
  },
  {
   "cell_type": "code",
   "execution_count": null,
   "metadata": {},
   "outputs": [],
   "source": [
    "num_cols = len(categorical_columns.columns)\n",
    "num_rows = (num_cols + 1) // 2\n",
    "\n",
    "fig, axes = plt.subplots(nrows=num_rows, ncols=2, figsize=(10, 4 * num_rows))\n",
    "\n",
    "for i, col in enumerate(categorical_columns.columns):\n",
    "\n",
    "    row_idx = i // 2\n",
    "    col_idx = i % 2\n",
    "\n",
    "    sns.countplot(x=col, data=categorical_columns, ax=axes[row_idx, col_idx])\n",
    "    axes[row_idx, col_idx].set_title(f'Count plot of {col}')\n",
    "\n",
    "\n",
    "    for p in axes[row_idx, col_idx].patches:\n",
    "        axes[row_idx, col_idx].annotate(f'{p.get_height()}',\n",
    "                (p.get_x() + p.get_width() / 2., p.get_height()),\n",
    "                ha='center', va='center',\n",
    "                xytext=(0, 5),  # offset of the text from the bar\n",
    "                textcoords='offset points',\n",
    "                # color=\"white\"\n",
    "            )\n",
    "\n",
    "\n",
    "if num_cols % 2 // 1:\n",
    "    fig.delaxes(axes[-1, -1])\n",
    "\n",
    "\n",
    "plt.tight_layout()\n",
    "plt.show()"
   ]
  },
  {
   "cell_type": "markdown",
   "metadata": {},
   "source": [
    "#### **Pair Plots**"
   ]
  },
  {
   "cell_type": "code",
   "execution_count": null,
   "metadata": {},
   "outputs": [],
   "source": [
    "plt.figure(figsize=(10, 10))\n",
    "sns.pairplot(numerical_columns)\n",
    "plt.suptitle(\"Pair Plot of Numerical Columns\", y=1.02)\n",
    "plt.show()"
   ]
  },
  {
   "cell_type": "markdown",
   "metadata": {},
   "source": [
    "# STOP (for now)\n",
    "\n",
    "- Feature Relationships\n",
    "    - Scatter Plots (already done)\n",
    "    - Line Plots (there may not be a time series in the dataset, so it won't work on all datasets)\n",
    "    - Box Plots (already done)\n",
    "    - Heatmaps (already done)\n",
    "\n",
    "\n",
    "- Target Variable Exploration\n",
    "- Feature Engineering Opportunities\n",
    "- Data Transformation\n",
    "- Time Series Analysis\n",
    "- Dimensionality Reduction\n",
    "- Advanced Statistical Analysis\n",
    "- Machine Learning Model Exploration\n",
    "- Interactive Visualizations\n"
   ]
  }
 ],
 "metadata": {
  "kernelspec": {
   "display_name": "Python 3",
   "language": "python",
   "name": "python3"
  },
  "language_info": {
   "codemirror_mode": {
    "name": "ipython",
    "version": 3
   },
   "file_extension": ".py",
   "mimetype": "text/x-python",
   "name": "python",
   "nbconvert_exporter": "python",
   "pygments_lexer": "ipython3",
   "version": "3.11.1"
  }
 },
 "nbformat": 4,
 "nbformat_minor": 2
}
